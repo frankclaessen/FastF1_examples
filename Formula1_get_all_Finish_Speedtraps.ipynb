{
 "cells": [
  {
   "cell_type": "code",
   "execution_count": null,
   "id": "78e231bc",
   "metadata": {},
   "outputs": [],
   "source": [
    "import fastf1\n",
    "import pandas as pd\n",
    "#\n",
    "fastf1.Cache.enable_cache('cache')  # replace with your cache directory\n",
    "#\n",
    "## get all racedata up to now\n",
    "#\n",
    "#\n",
    "# Get session 1 - first try to see if it works\n",
    "#\n",
    "session = fastf1.get_session(2021, 1, 'R')\n",
    "laps=session.load_laps(with_telemetry=True)\n",
    "laps['RaceNumber']=1\n",
    "flSpeedTraps=laps[['RaceNumber', 'DriverNumber','Driver', 'LapNumber','SpeedFL']]\n",
    "all_FL_speedtraps=flSpeedTraps\n",
    "#\n",
    "# Now get the rest of the sessions and append to all_FL_speedtraps \n",
    "#\n",
    "for x in range(2,21):\n",
    "    session = fastf1.get_session(2021, x, 'R')\n",
    "    laps=session.load_laps(with_telemetry=True)\n",
    "    laps['RaceNumber']=x\n",
    "    flSpeedTraps=laps[['RaceNumber', 'DriverNumber','Driver', 'LapNumber','SpeedFL']]\n",
    "    # need to go indirect now since all...=all....append does not work!\n",
    "    temp=all_FL_speedtraps.append(flSpeedTraps, ignore_index=True)\n",
    "    all_FL_speedtraps=temp\n",
    "print(\"We're done!\")\n",
    "#\n",
    "## export to excel sheet to import into a database later on\n",
    "#\n",
    "all_FL_speedtraps.to_excel(r'FLspeedtraps_ALL.xlsx', index = True, header = True)"
   ]
  }
 ],
 "metadata": {
  "kernelspec": {
   "display_name": "Python 3 (ipykernel)",
   "language": "python",
   "name": "python3"
  },
  "language_info": {
   "codemirror_mode": {
    "name": "ipython",
    "version": 3
   },
   "file_extension": ".py",
   "mimetype": "text/x-python",
   "name": "python",
   "nbconvert_exporter": "python",
   "pygments_lexer": "ipython3",
   "version": "3.9.7"
  }
 },
 "nbformat": 4,
 "nbformat_minor": 5
}
