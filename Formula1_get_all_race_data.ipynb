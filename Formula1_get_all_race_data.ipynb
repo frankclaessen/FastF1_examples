{
 "cells": [
  {
   "cell_type": "code",
   "execution_count": 1,
   "id": "78e231bc",
   "metadata": {},
   "outputs": [
    {
     "name": "stderr",
     "output_type": "stream",
     "text": [
      "core           INFO \tLoading laps for Bahrain Grand Prix - Race [v2.1.11]\n",
      "api            INFO \tUsing cached data for timing_data\n",
      "api            INFO \tUsing cached data for timing_app_data\n",
      "core           INFO \tProcessing timing data...\n",
      "api            INFO \tUsing cached data for driver_info\n",
      "api            INFO \tUsing cached data for session_status_data\n",
      "api            INFO \tUsing cached data for track_status_data\n",
      "api            INFO \tUsing cached data for car_data\n",
      "api            INFO \tUsing cached data for position_data\n",
      "api            INFO \tUsing cached data for weather_data\n",
      "core           INFO \tLoaded data for 20 drivers: ['9', '31', '47', '16', '4', '5', '11', '77', '18', '7', '99', '44', '33', '6', '55', '3', '63', '14', '10', '22']\n"
     ]
    }
   ],
   "source": [
    "import fastf1\n",
    "import pandas as pd\n",
    "#\n",
    "fastf1.Cache.enable_cache('cache')  # replace with your cache directory\n",
    "#\n",
    "## get all racedata up to now\n",
    "## watch the x range below! Might have been adjusted for testing purposes\n",
    "#\n",
    "for x in range(1,2):\n",
    "    session = fastf1.get_session(2021, x, 'R')\n",
    "    laps=session.load_laps(with_telemetry=True)\n",
    "#\n",
    "## that's it\n",
    "#"
   ]
  },
  {
   "cell_type": "markdown",
   "id": "9cb8f803",
   "metadata": {},
   "source": [
    "Some investigation into the data types inside a session object:\n",
    "the session car data is stored as a dictionary inside the session - per driver\n",
    "over 30.000 lines per driver!"
   ]
  },
  {
   "cell_type": "code",
   "execution_count": 2,
   "id": "4d83aad4",
   "metadata": {},
   "outputs": [
    {
     "data": {
      "text/plain": [
       "dict"
      ]
     },
     "execution_count": 2,
     "metadata": {},
     "output_type": "execute_result"
    }
   ],
   "source": [
    "type(session.car_data)"
   ]
  },
  {
   "cell_type": "markdown",
   "id": "36b73006",
   "metadata": {},
   "source": [
    "getting the dictionary for a certain driver"
   ]
  },
  {
   "cell_type": "code",
   "execution_count": 3,
   "id": "1d38a0c8",
   "metadata": {},
   "outputs": [],
   "source": [
    "testlst=session.car_data['33']"
   ]
  },
  {
   "cell_type": "markdown",
   "id": "f282a0a9",
   "metadata": {},
   "source": [
    "same goes for the position data - get the pos-data for the same driver"
   ]
  },
  {
   "cell_type": "code",
   "execution_count": 4,
   "id": "abb97a3b",
   "metadata": {},
   "outputs": [],
   "source": [
    "poslst=session.pos_data['33']"
   ]
  },
  {
   "cell_type": "markdown",
   "id": "2bb52683",
   "metadata": {},
   "source": [
    "this poslist is again a dataframe "
   ]
  },
  {
   "cell_type": "code",
   "execution_count": 5,
   "id": "da429807",
   "metadata": {},
   "outputs": [
    {
     "data": {
      "text/plain": [
       "Index(['Date', 'Status', 'X', 'Y', 'Z', 'Source', 'Time', 'SessionTime'], dtype='object')"
      ]
     },
     "execution_count": 5,
     "metadata": {},
     "output_type": "execute_result"
    }
   ],
   "source": [
    "poslst.columns"
   ]
  },
  {
   "cell_type": "code",
   "execution_count": 6,
   "id": "360ec519",
   "metadata": {},
   "outputs": [
    {
     "data": {
      "text/plain": [
       "Index(['Date', 'RPM', 'Speed', 'nGear', 'Throttle', 'Brake', 'DRS', 'Source',\n",
       "       'Time', 'SessionTime'],\n",
       "      dtype='object')"
      ]
     },
     "execution_count": 6,
     "metadata": {},
     "output_type": "execute_result"
    }
   ],
   "source": [
    "testlst.columns"
   ]
  },
  {
   "cell_type": "code",
   "execution_count": 2,
   "id": "156699c1",
   "metadata": {},
   "outputs": [
    {
     "name": "stdout",
     "output_type": "stream",
     "text": [
      "Help on function get_session in module fastf1.core:\n",
      "\n",
      "get_session(year, gp, event=None)\n",
      "    Create a :class:`Session` or :class:`Weekend` object based on year,\n",
      "    event name and session name.\n",
      "    This function will take care of crafting an object\n",
      "    corresponding to the requested session.\n",
      "    If no session is specified, the full weekend is returned.\n",
      "    \n",
      "    Examples:\n",
      "    \n",
      "        Get the second free practice of the first race of 2021::\n",
      "    \n",
      "            get_session(2021, 1, 'FP2')\n",
      "    \n",
      "        Get the qualifying of the 2020 Austrian Grand Prix::\n",
      "    \n",
      "            get_session(2020, 'Austria', 'Q')\n",
      "    \n",
      "        Get the second day of pre-season testing of 2021::\n",
      "    \n",
      "            get_session(2021, 'testing', 2)\n",
      "    \n",
      "    \n",
      "    Args:\n",
      "        year (number): Session year\n",
      "        gp (number or string): Name or weekend number (1: Australia,\n",
      "                               ..., 21: Abu Dhabi). If gp is a string,\n",
      "                               a fuzzy match will be performed on the\n",
      "                               season rounds and the most likely will be\n",
      "                               selected.\n",
      "    \n",
      "                               Some examples that will be correctly\n",
      "                               interpreted: 'bahrain', 'australia',\n",
      "                               'abudabi', 'monza'.\n",
      "    \n",
      "                               Pass 'testing' to fetch Barcelona winter\n",
      "                               tests.\n",
      "    \n",
      "        event (=None): may be 'FP1', 'FP2', 'FP3', 'Q', 'SQ' or 'R', if not\n",
      "                       specified you get the full :class:`Weekend`.\n",
      "                       'SQ' stands for Sprint Qualifying which is only\n",
      "                       available in the 2021 season. Note that 'FP3' does\n",
      "                       not exist on these race weekends.\n",
      "                       If gp is 'testing' event is the test day (1 to 6)\n",
      "    \n",
      "    Returns:\n",
      "        :class:`Weekend` or :class:`Session`\n",
      "\n"
     ]
    }
   ],
   "source": [
    "import fastf1\n",
    "help(fastf1.get_session)"
   ]
  },
  {
   "cell_type": "code",
   "execution_count": null,
   "id": "fcc621b0",
   "metadata": {},
   "outputs": [],
   "source": []
  }
 ],
 "metadata": {
  "kernelspec": {
   "display_name": "Python 3 (ipykernel)",
   "language": "python",
   "name": "python3"
  },
  "language_info": {
   "codemirror_mode": {
    "name": "ipython",
    "version": 3
   },
   "file_extension": ".py",
   "mimetype": "text/x-python",
   "name": "python",
   "nbconvert_exporter": "python",
   "pygments_lexer": "ipython3",
   "version": "3.9.7"
  }
 },
 "nbformat": 4,
 "nbformat_minor": 5
}
