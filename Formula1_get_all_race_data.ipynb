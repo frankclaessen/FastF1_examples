{
 "cells": [
  {
   "cell_type": "code",
   "execution_count": null,
   "id": "78e231bc",
   "metadata": {},
   "outputs": [],
   "source": [
    "import fastf1\n",
    "import pandas as pd\n",
    "#\n",
    "fastf1.Cache.enable_cache('cache')  # replace with your cache directory\n",
    "#\n",
    "## get all racedata up to now\n",
    "## watch the x range below! Might have been adjusted for testing purposes\n",
    "#\n",
    "for x in range(1,2):\n",
    "    session = fastf1.get_session(2021, x, 'R')\n",
    "    laps=session.load_laps(with_telemetry=True)\n",
    "#\n",
    "## that's it\n",
    "#"
   ]
  }
 ],
 "metadata": {
  "kernelspec": {
   "display_name": "Python 3 (ipykernel)",
   "language": "python",
   "name": "python3"
  },
  "language_info": {
   "codemirror_mode": {
    "name": "ipython",
    "version": 3
   },
   "file_extension": ".py",
   "mimetype": "text/x-python",
   "name": "python",
   "nbconvert_exporter": "python",
   "pygments_lexer": "ipython3",
   "version": "3.9.7"
  }
 },
 "nbformat": 4,
 "nbformat_minor": 5
}
